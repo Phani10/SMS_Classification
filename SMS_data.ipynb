{
 "cells": [
  {
   "cell_type": "markdown",
   "metadata": {},
   "source": [
    "## Classification of SMS data"
   ]
  },
  {
   "cell_type": "markdown",
   "metadata": {},
   "source": [
    "### Import Packages"
   ]
  },
  {
   "cell_type": "code",
   "execution_count": 1,
   "metadata": {
    "collapsed": true
   },
   "outputs": [],
   "source": [
    "# Import required packages\n",
    "import pandas as pd\n",
    "import numpy as np\n",
    "import re\n",
    "from nltk import word_tokenize \n",
    "from nltk.corpus import stopwords\n",
    "from sklearn.feature_extraction.text import CountVectorizer, TfidfTransformer\n",
    "from sklearn.model_selection import train_test_split\n",
    "from sklearn.linear_model import SGDClassifier \n",
    "from sklearn.metrics import accuracy_score"
   ]
  },
  {
   "cell_type": "markdown",
   "metadata": {},
   "source": [
    "### Load Data "
   ]
  },
  {
   "cell_type": "markdown",
   "metadata": {},
   "source": [
    "Load HDFC SMS data"
   ]
  },
  {
   "cell_type": "code",
   "execution_count": 2,
   "metadata": {},
   "outputs": [
    {
     "data": {
      "text/plain": [
       "(137189, 6)"
      ]
     },
     "execution_count": 2,
     "metadata": {},
     "output_type": "execute_result"
    }
   ],
   "source": [
    "df = pd.read_csv(\"./Sample SMS Data/sms_hdfc.csv\")\n",
    "df.shape"
   ]
  },
  {
   "cell_type": "markdown",
   "metadata": {},
   "source": [
    "Check first few lines of the data"
   ]
  },
  {
   "cell_type": "code",
   "execution_count": 3,
   "metadata": {},
   "outputs": [
    {
     "data": {
      "text/html": [
       "<div>\n",
       "<style scoped>\n",
       "    .dataframe tbody tr th:only-of-type {\n",
       "        vertical-align: middle;\n",
       "    }\n",
       "\n",
       "    .dataframe tbody tr th {\n",
       "        vertical-align: top;\n",
       "    }\n",
       "\n",
       "    .dataframe thead th {\n",
       "        text-align: right;\n",
       "    }\n",
       "</style>\n",
       "<table border=\"1\" class=\"dataframe\">\n",
       "  <thead>\n",
       "    <tr style=\"text-align: right;\">\n",
       "      <th></th>\n",
       "      <th>Rowid</th>\n",
       "      <th>Cluster</th>\n",
       "      <th>_id</th>\n",
       "      <th>smses_senderId</th>\n",
       "      <th>f0_</th>\n",
       "      <th>smses_smsText</th>\n",
       "    </tr>\n",
       "  </thead>\n",
       "  <tbody>\n",
       "    <tr>\n",
       "      <th>0</th>\n",
       "      <td>1</td>\n",
       "      <td>1.0</td>\n",
       "      <td>5d802fa5f0771c951e7ef8af84b44d7a</td>\n",
       "      <td>DM-HDFCBK</td>\n",
       "      <td>19-09-2017</td>\n",
       "      <td>Balance in A/c XXXXXXXXXX6005 as of 18-SEP-17 ...</td>\n",
       "    </tr>\n",
       "    <tr>\n",
       "      <th>1</th>\n",
       "      <td>2</td>\n",
       "      <td>1.0</td>\n",
       "      <td>5d802fa5f0771c951e7ef8af84b44d7a</td>\n",
       "      <td>DM-HDFCBK</td>\n",
       "      <td>15-09-2017</td>\n",
       "      <td>INR 24,000.00 Dr to A/c No XX6005 towards ECS ...</td>\n",
       "    </tr>\n",
       "    <tr>\n",
       "      <th>2</th>\n",
       "      <td>3</td>\n",
       "      <td>1.0</td>\n",
       "      <td>e830ca63b5d2c92288b1875712b6d934</td>\n",
       "      <td>BZ-HDFCBK</td>\n",
       "      <td>12-09-2017</td>\n",
       "      <td>INR 125.56 deposited to A/C No XXXXXXXXXX5309 ...</td>\n",
       "    </tr>\n",
       "    <tr>\n",
       "      <th>3</th>\n",
       "      <td>4</td>\n",
       "      <td>3.0</td>\n",
       "      <td>fe8366890c0556b6f0e2fc49c15c8973</td>\n",
       "      <td>AM-HDFCBK</td>\n",
       "      <td>04-09-2017</td>\n",
       "      <td>Dear Customer, Update your Aadhar number, Just...</td>\n",
       "    </tr>\n",
       "    <tr>\n",
       "      <th>4</th>\n",
       "      <td>5</td>\n",
       "      <td>3.0</td>\n",
       "      <td>fe8366890c0556b6f0e2fc49c15c8973</td>\n",
       "      <td>AM-HDFCBK</td>\n",
       "      <td>04-09-2017</td>\n",
       "      <td>Excellent Job Opportunity with HDFC Bank for S...</td>\n",
       "    </tr>\n",
       "  </tbody>\n",
       "</table>\n",
       "</div>"
      ],
      "text/plain": [
       "   Rowid  Cluster                               _id smses_senderId  \\\n",
       "0      1      1.0  5d802fa5f0771c951e7ef8af84b44d7a      DM-HDFCBK   \n",
       "1      2      1.0  5d802fa5f0771c951e7ef8af84b44d7a      DM-HDFCBK   \n",
       "2      3      1.0  e830ca63b5d2c92288b1875712b6d934      BZ-HDFCBK   \n",
       "3      4      3.0  fe8366890c0556b6f0e2fc49c15c8973      AM-HDFCBK   \n",
       "4      5      3.0  fe8366890c0556b6f0e2fc49c15c8973      AM-HDFCBK   \n",
       "\n",
       "          f0_                                      smses_smsText  \n",
       "0  19-09-2017  Balance in A/c XXXXXXXXXX6005 as of 18-SEP-17 ...  \n",
       "1  15-09-2017  INR 24,000.00 Dr to A/c No XX6005 towards ECS ...  \n",
       "2  12-09-2017  INR 125.56 deposited to A/C No XXXXXXXXXX5309 ...  \n",
       "3  04-09-2017  Dear Customer, Update your Aadhar number, Just...  \n",
       "4  04-09-2017  Excellent Job Opportunity with HDFC Bank for S...  "
      ]
     },
     "execution_count": 3,
     "metadata": {},
     "output_type": "execute_result"
    }
   ],
   "source": [
    "df.head()"
   ]
  },
  {
   "cell_type": "markdown",
   "metadata": {},
   "source": [
    "Check if there are any missing values in any of the columns"
   ]
  },
  {
   "cell_type": "code",
   "execution_count": 4,
   "metadata": {},
   "outputs": [
    {
     "data": {
      "text/plain": [
       "Rowid               0\n",
       "Cluster           751\n",
       "_id                 0\n",
       "smses_senderId      0\n",
       "f0_                 0\n",
       "smses_smsText       0\n",
       "dtype: int64"
      ]
     },
     "execution_count": 4,
     "metadata": {},
     "output_type": "execute_result"
    }
   ],
   "source": [
    "df.isnull().sum()"
   ]
  },
  {
   "cell_type": "markdown",
   "metadata": {},
   "source": [
    "There are missing values in Cluster. <br>\n",
    "Let us explore Cluster"
   ]
  },
  {
   "cell_type": "code",
   "execution_count": 5,
   "metadata": {},
   "outputs": [
    {
     "data": {
      "text/plain": [
       "3.0    62948\n",
       "2.0    34313\n",
       "1.0    23255\n",
       "4.0    15922\n",
       "Name: Cluster, dtype: int64"
      ]
     },
     "execution_count": 5,
     "metadata": {},
     "output_type": "execute_result"
    }
   ],
   "source": [
    "df.Cluster.value_counts()"
   ]
  },
  {
   "cell_type": "markdown",
   "metadata": {},
   "source": [
    "Check sample records for each Cluster"
   ]
  },
  {
   "cell_type": "code",
   "execution_count": 6,
   "metadata": {},
   "outputs": [
    {
     "data": {
      "text/plain": [
       "86150     OTP is 051200 for txn of INR 99.00 at FREECHAR...\n",
       "114636    OTP is 732354 for txn of INR 50.00 at FREECHAR...\n",
       "63528     Your OTP for IPIN regeneration is 166771. OTP ...\n",
       "9383      OTP is 536119 for txn of INR 238.00 at KARNATA...\n",
       "110462    OTP is 346865 for txn of INR 5000.00 at Wibmo ...\n",
       "103249    Your OTP for Fund Transfer of Rs.  5,500.00 fr...\n",
       "8238      Your OTP for IPIN regeneration is 257487. OTP ...\n",
       "98376     OTP for your Online Purchase of Rs. 17.00 from...\n",
       "42939     One time password is 846295 for card ending 18...\n",
       "35171     OTP is 139680 for txn of INR 349.00 at airtel1...\n",
       "Name: smses_smsText, dtype: object"
      ]
     },
     "execution_count": 6,
     "metadata": {},
     "output_type": "execute_result"
    }
   ],
   "source": [
    "df[df['Cluster'] == 4].sample(10)['smses_smsText']"
   ]
  },
  {
   "cell_type": "code",
   "execution_count": 7,
   "metadata": {},
   "outputs": [
    {
     "data": {
      "text/plain": [
       "'OTP is 742662 for txn of INR 50000.00 at DBSBANK on card ending 4471. Valid till 13:13:14. Do not share OTP for security reasons.'"
      ]
     },
     "execution_count": 7,
     "metadata": {},
     "output_type": "execute_result"
    }
   ],
   "source": [
    "df['smses_smsText'][98001]"
   ]
  },
  {
   "cell_type": "code",
   "execution_count": 8,
   "metadata": {},
   "outputs": [
    {
     "data": {
      "text/plain": [
       "124835    Dear Customer, Now shop with just a few clicks...\n",
       "16734     Your Customer ID has been enabled for NetBanki...\n",
       "28068     An amount of Rs.250.00 has been debited from y...\n",
       "25111     Dear  Customer, Govt. had mandated linking of ...\n",
       "64232     Your Bank a/c ****3405 will be debited for Rs....\n",
       "86811     Give missed call on 18002703333 to check HDFC ...\n",
       "133831    Dear Customer, Govt. mandates linking of Aadha...\n",
       "136680    An amount of Rs.300.00 has been debited from y...\n",
       "101639    An amount of Rs.4,000.00 has been debited from...\n",
       "48448     Dear Customer, enjoy instant fund transfer! Ev...\n",
       "Name: smses_smsText, dtype: object"
      ]
     },
     "execution_count": 8,
     "metadata": {},
     "output_type": "execute_result"
    }
   ],
   "source": [
    "df[df['Cluster'] == 3].sample(10)['smses_smsText']"
   ]
  },
  {
   "cell_type": "code",
   "execution_count": 9,
   "metadata": {},
   "outputs": [
    {
     "data": {
      "text/plain": [
       "'HDFC Bank Cr Crd \\nending 0003 - Total Out. amt - Rs 21,279.69;Avl.Bal-43,720.31;RwdPnt-5562'"
      ]
     },
     "execution_count": 9,
     "metadata": {},
     "output_type": "execute_result"
    }
   ],
   "source": [
    "df['smses_smsText'][90654]"
   ]
  },
  {
   "cell_type": "code",
   "execution_count": 10,
   "metadata": {},
   "outputs": [
    {
     "data": {
      "text/plain": [
       "115510    Thank you for using Debit Card ending 8774 for...\n",
       "54164     Thank you for using Debit Card ending 2249 for...\n",
       "78139     Rs.10000.00 was withdrawn using your HDFC Bank...\n",
       "11199     Rs.2000.00 was withdrawn using your HDFC Bank ...\n",
       "130142    DEAR CARDMEMBER, PAYMENT OF Rs. 3143.55 RECEIV...\n",
       "55464     Thank you for using Debit Card ending 8126 for...\n",
       "96834     Rs.2000.00 was spent on ur HDFCBank CREDIT Car...\n",
       "118281    Rs.5000.00 was withdrawn using your HDFC Bank ...\n",
       "92164     Rs.5000.00 was withdrawn using your HDFC Bank ...\n",
       "16665     Rs.276.00 was spent on ur HDFCBank CREDIT Card...\n",
       "Name: smses_smsText, dtype: object"
      ]
     },
     "execution_count": 10,
     "metadata": {},
     "output_type": "execute_result"
    }
   ],
   "source": [
    "df[df['Cluster'] == 2].sample(10)['smses_smsText']"
   ]
  },
  {
   "cell_type": "code",
   "execution_count": 11,
   "metadata": {},
   "outputs": [
    {
     "data": {
      "text/plain": [
       "'Thank you for using Debit Card ending 4761 for Rs.176.00 in PUNE at CLOUDNINE. on 2017-08-30:14:21:51  Avl bal: Rs.42634.37'"
      ]
     },
     "execution_count": 11,
     "metadata": {},
     "output_type": "execute_result"
    }
   ],
   "source": [
    "df['smses_smsText'][26758]"
   ]
  },
  {
   "cell_type": "code",
   "execution_count": 12,
   "metadata": {},
   "outputs": [
    {
     "data": {
      "text/plain": [
       "59164     Balance in A/c XXXXXXXXXX4402 as of 25-AUG-17 ...\n",
       "82681     INR 3,00,000.00 deposited to A/c No XX9049 tow...\n",
       "18576     INR 5,000.00 deposited to A/c No XX8078 toward...\n",
       "124652    INR 1,99,999.00 deposited to A/c No XX6562 tow...\n",
       "68124     INR 1,99,600.00 Dr to A/c No XX5339 towards IM...\n",
       "124240    Balance in A/c XXXXXXXXXX1336 as of 28-AUG-17 ...\n",
       "54140     Balance in A/c XXXXXXXXXX5444 as of 21-AUG-17 ...\n",
       "75823     INR 10,000.00 Dr to A/c No XX8116 towards KISA...\n",
       "1961      Bal in A/c No XX3287 has gone below your speci...\n",
       "104248    INR 18,815.74 deposited to A/c No XX8587 towar...\n",
       "Name: smses_smsText, dtype: object"
      ]
     },
     "execution_count": 12,
     "metadata": {},
     "output_type": "execute_result"
    }
   ],
   "source": [
    "df[df['Cluster'] == 1].sample(10)['smses_smsText']"
   ]
  },
  {
   "cell_type": "code",
   "execution_count": 13,
   "metadata": {},
   "outputs": [
    {
     "data": {
      "text/plain": [
       "'INR 5,000.00 Dr to A/c No XX8250 towards 50400096559079- RD Installment-Sep 2017 Val 04-SEP-17. Clr Bal INR 53,825.00.'"
      ]
     },
     "execution_count": 13,
     "metadata": {},
     "output_type": "execute_result"
    }
   ],
   "source": [
    "df['smses_smsText'][29314]"
   ]
  },
  {
   "cell_type": "code",
   "execution_count": 14,
   "metadata": {},
   "outputs": [
    {
     "data": {
      "text/plain": [
       "61952     SHG DIRECT LINKAGE of NAGAVENI  V, LOS No. 505...\n",
       "128801    We are glad to extend 5% Cashback(maxRs.150 p....\n",
       "62048     SHG DIRECT LINKAGE of SURYA KUMARI R, LOS No. ...\n",
       "98138                      Your verification code is 169784\n",
       "99464     प्रिय ग्राहक, हमे आपके मौजूदा एचडीएफसी बैंक टू...\n",
       "122106    પ્રિય ગ્રાહક, તમારી મોજૂદ એચડીએફસી બેન્ક ટુ વ્...\n",
       "68772     प्रिय ग्राहक, अपने बिजली व मोबाइल बिलों, बिमा ...\n",
       "79620                                          5810773416).\n",
       "119965                     Your verification code is 064214\n",
       "62513     प्रिय ग्राहक, अपने बिजली व मोबाइल बिलों, बिमा ...\n",
       "Name: smses_smsText, dtype: object"
      ]
     },
     "execution_count": 14,
     "metadata": {},
     "output_type": "execute_result"
    }
   ],
   "source": [
    "df[df['Cluster'].isnull()].sample(10)['smses_smsText']"
   ]
  },
  {
   "cell_type": "markdown",
   "metadata": {},
   "source": [
    "Inference: Cluster  <br> 1 - Account,<br>  2 - creditcard/debitcard transactions, <br> 3 - creditcard/debitcard/others,<br>  4 - Others"
   ]
  },
  {
   "cell_type": "markdown",
   "metadata": {},
   "source": [
    "### Data Preprocessing"
   ]
  },
  {
   "cell_type": "code",
   "execution_count": 15,
   "metadata": {
    "collapsed": true
   },
   "outputs": [],
   "source": [
    "stopwords_set = set(stopwords.words('english'))\n",
    "\n",
    "def preprocess(sent):\n",
    "    sent = sent.lower() # Convert into lower case\n",
    "    sent = re.sub(\" a/c \", \" account \", sent) # substitute common abbreviation with correct words\n",
    "    sent = re.sub(\"\\'ve\", \" have \", sent)\n",
    "    sent = re.sub(\"can't\", \"can not\", sent)\n",
    "    sent = re.sub(\"n't\", \" not \", sent)\n",
    "    sent = re.sub(\"i'm\", \"i am\", sent)\n",
    "    sent = re.sub(\"\\'re\", \" are \", sent)\n",
    "    sent = re.sub(\"\\'d\", \" would \", sent)\n",
    "    sent = re.sub(\"\\'ll\", \" will \", sent)\n",
    "    sent = re.sub('[^A-Za-z]+', ' ', sent) # Remove all digits\n",
    "    sent = sent.replace('x', '')\n",
    "    sent = re.sub(\"inr \",\" \",sent)\n",
    "    sent = re.sub(\"bal \",\" \",sent)\n",
    "    sent = re.sub(\"clr \",\" \",sent)\n",
    "    sent = re.sub(\"hdfc \",\" \",sent)\n",
    "    sent = re.sub(\"jan \",\" \",\n",
    "                  re.sub(\"feb \",\" \",\n",
    "                  re.sub(\"mar \",\" \",\n",
    "                  re.sub(\"apr \",\" \",\n",
    "                  re.sub(\"may \",\" \", \n",
    "                  re.sub(\"jun \",\" \", \n",
    "                  re.sub(\"jul \",\" \", \n",
    "                  re.sub(\"aug \",\" \", \n",
    "                  re.sub(\"sep \",\" \", \n",
    "                  re.sub(\"oct \",\" \", \n",
    "                  re.sub(\"nov \",\" \", \n",
    "                  re.sub(\"dec \",\" \", sent))))))))))))\n",
    "    sent = ' '.join(word for word in sent.split() if word not in stopwords_set) # remove stopwords from sent\n",
    "    return sent"
   ]
  },
  {
   "cell_type": "code",
   "execution_count": 16,
   "metadata": {},
   "outputs": [
    {
     "data": {
      "text/html": [
       "<div>\n",
       "<style scoped>\n",
       "    .dataframe tbody tr th:only-of-type {\n",
       "        vertical-align: middle;\n",
       "    }\n",
       "\n",
       "    .dataframe tbody tr th {\n",
       "        vertical-align: top;\n",
       "    }\n",
       "\n",
       "    .dataframe thead th {\n",
       "        text-align: right;\n",
       "    }\n",
       "</style>\n",
       "<table border=\"1\" class=\"dataframe\">\n",
       "  <thead>\n",
       "    <tr style=\"text-align: right;\">\n",
       "      <th></th>\n",
       "      <th>Rowid</th>\n",
       "      <th>Cluster</th>\n",
       "      <th>_id</th>\n",
       "      <th>smses_senderId</th>\n",
       "      <th>f0_</th>\n",
       "      <th>smses_smsText</th>\n",
       "      <th>processed_sms</th>\n",
       "    </tr>\n",
       "  </thead>\n",
       "  <tbody>\n",
       "    <tr>\n",
       "      <th>0</th>\n",
       "      <td>1</td>\n",
       "      <td>1.0</td>\n",
       "      <td>5d802fa5f0771c951e7ef8af84b44d7a</td>\n",
       "      <td>DM-HDFCBK</td>\n",
       "      <td>19-09-2017</td>\n",
       "      <td>Balance in A/c XXXXXXXXXX6005 as of 18-SEP-17 ...</td>\n",
       "      <td>balance account eod check account current bala...</td>\n",
       "    </tr>\n",
       "    <tr>\n",
       "      <th>1</th>\n",
       "      <td>2</td>\n",
       "      <td>1.0</td>\n",
       "      <td>5d802fa5f0771c951e7ef8af84b44d7a</td>\n",
       "      <td>DM-HDFCBK</td>\n",
       "      <td>15-09-2017</td>\n",
       "      <td>INR 24,000.00 Dr to A/c No XX6005 towards ECS ...</td>\n",
       "      <td>dr account towards ecs tp fin homes ltd val</td>\n",
       "    </tr>\n",
       "    <tr>\n",
       "      <th>2</th>\n",
       "      <td>3</td>\n",
       "      <td>1.0</td>\n",
       "      <td>e830ca63b5d2c92288b1875712b6d934</td>\n",
       "      <td>BZ-HDFCBK</td>\n",
       "      <td>12-09-2017</td>\n",
       "      <td>INR 125.56 deposited to A/C No XXXXXXXXXX5309 ...</td>\n",
       "      <td>deposited account towards dbl subsidy val</td>\n",
       "    </tr>\n",
       "    <tr>\n",
       "      <th>3</th>\n",
       "      <td>4</td>\n",
       "      <td>3.0</td>\n",
       "      <td>fe8366890c0556b6f0e2fc49c15c8973</td>\n",
       "      <td>AM-HDFCBK</td>\n",
       "      <td>04-09-2017</td>\n",
       "      <td>Dear Customer, Update your Aadhar number, Just...</td>\n",
       "      <td>dear customer update aadhar number sms aadhaar...</td>\n",
       "    </tr>\n",
       "    <tr>\n",
       "      <th>4</th>\n",
       "      <td>5</td>\n",
       "      <td>3.0</td>\n",
       "      <td>fe8366890c0556b6f0e2fc49c15c8973</td>\n",
       "      <td>AM-HDFCBK</td>\n",
       "      <td>04-09-2017</td>\n",
       "      <td>Excellent Job Opportunity with HDFC Bank for S...</td>\n",
       "      <td>ecellent job opportunity bank sales officer ag...</td>\n",
       "    </tr>\n",
       "  </tbody>\n",
       "</table>\n",
       "</div>"
      ],
      "text/plain": [
       "   Rowid  Cluster                               _id smses_senderId  \\\n",
       "0      1      1.0  5d802fa5f0771c951e7ef8af84b44d7a      DM-HDFCBK   \n",
       "1      2      1.0  5d802fa5f0771c951e7ef8af84b44d7a      DM-HDFCBK   \n",
       "2      3      1.0  e830ca63b5d2c92288b1875712b6d934      BZ-HDFCBK   \n",
       "3      4      3.0  fe8366890c0556b6f0e2fc49c15c8973      AM-HDFCBK   \n",
       "4      5      3.0  fe8366890c0556b6f0e2fc49c15c8973      AM-HDFCBK   \n",
       "\n",
       "          f0_                                      smses_smsText  \\\n",
       "0  19-09-2017  Balance in A/c XXXXXXXXXX6005 as of 18-SEP-17 ...   \n",
       "1  15-09-2017  INR 24,000.00 Dr to A/c No XX6005 towards ECS ...   \n",
       "2  12-09-2017  INR 125.56 deposited to A/C No XXXXXXXXXX5309 ...   \n",
       "3  04-09-2017  Dear Customer, Update your Aadhar number, Just...   \n",
       "4  04-09-2017  Excellent Job Opportunity with HDFC Bank for S...   \n",
       "\n",
       "                                       processed_sms  \n",
       "0  balance account eod check account current bala...  \n",
       "1        dr account towards ecs tp fin homes ltd val  \n",
       "2          deposited account towards dbl subsidy val  \n",
       "3  dear customer update aadhar number sms aadhaar...  \n",
       "4  ecellent job opportunity bank sales officer ag...  "
      ]
     },
     "execution_count": 16,
     "metadata": {},
     "output_type": "execute_result"
    }
   ],
   "source": [
    "df['processed_sms'] = df['smses_smsText'].apply(preprocess)\n",
    "df.head()"
   ]
  },
  {
   "cell_type": "markdown",
   "metadata": {},
   "source": [
    "Bi-grams"
   ]
  },
  {
   "cell_type": "code",
   "execution_count": 17,
   "metadata": {
    "collapsed": true
   },
   "outputs": [],
   "source": [
    "#Creating N-Grams\n",
    "def ngram(text,grams):  \n",
    "    model=[]\n",
    "    count=0\n",
    "    for token in text[:len(text)-grams+1]:  \n",
    "        model.append(text[count:count+grams])  \n",
    "        count=count+1  \n",
    "    return model"
   ]
  },
  {
   "cell_type": "code",
   "execution_count": 18,
   "metadata": {},
   "outputs": [
    {
     "data": {
      "text/plain": [
       "[['ur', 'transaction'],\n",
       " ['transaction', 'bank'],\n",
       " ['bank', 'credit'],\n",
       " ['credit', 'card'],\n",
       " ['card', 'ending'],\n",
       " ['ending', 'rs'],\n",
       " ['rs', 'credited'],\n",
       " ['credited', 'reversed'],\n",
       " ['reversed', 'amazon']]"
      ]
     },
     "execution_count": 18,
     "metadata": {},
     "output_type": "execute_result"
    }
   ],
   "source": [
    "#Created Bigrams\n",
    "df['bigrams'] = df[\"processed_sms\"].apply(lambda x: ngram(x.split(\" \"), 2))\n",
    "df['bigrams'][61092]"
   ]
  },
  {
   "cell_type": "markdown",
   "metadata": {},
   "source": [
    "### Deriving Target variable  "
   ]
  },
  {
   "cell_type": "markdown",
   "metadata": {},
   "source": [
    "From processed data, identify high frequency words for each cluster "
   ]
  },
  {
   "cell_type": "code",
   "execution_count": 19,
   "metadata": {},
   "outputs": [
    {
     "data": {
      "text/plain": [
       "verification    341\n",
       "code            338\n",
       "dtype: int64"
      ]
     },
     "execution_count": 19,
     "metadata": {},
     "output_type": "execute_result"
    }
   ],
   "source": [
    "# Others cluster\n",
    "freq_5 = pd.Series(' '.join(df[df['Cluster'].isnull()][\"processed_sms\"]).split()).value_counts()\n",
    "freq_5[:2]"
   ]
  },
  {
   "cell_type": "code",
   "execution_count": 20,
   "metadata": {},
   "outputs": [
    {
     "data": {
      "text/plain": [
       "otp      32628\n",
       "share    15716\n",
       "dtype: int64"
      ]
     },
     "execution_count": 20,
     "metadata": {},
     "output_type": "execute_result"
    }
   ],
   "source": [
    "# Others cluster\n",
    "freq_4 = pd.Series(' '.join(df[df['Cluster'] == 4][\"processed_sms\"]).split()).value_counts()\n",
    "freq_4[:2]"
   ]
  },
  {
   "cell_type": "code",
   "execution_count": 21,
   "metadata": {},
   "outputs": [
    {
     "data": {
      "text/plain": [
       "account    43992\n",
       "bank       39662\n",
       "dtype: int64"
      ]
     },
     "execution_count": 21,
     "metadata": {},
     "output_type": "execute_result"
    }
   ],
   "source": [
    "# Others/Debit/Credit\n",
    "freq_3 = pd.Series(' '.join(df[df['Cluster'] == 3][\"processed_sms\"]).split()).value_counts()\n",
    "freq_3[:2]"
   ]
  },
  {
   "cell_type": "code",
   "execution_count": 22,
   "metadata": {},
   "outputs": [
    {
     "data": {
      "text/plain": [
       "rs      65136\n",
       "card    36493\n",
       "dtype: int64"
      ]
     },
     "execution_count": 22,
     "metadata": {},
     "output_type": "execute_result"
    }
   ],
   "source": [
    "# Debit/Credit\n",
    "freq_2 = pd.Series(' '.join(df[df['Cluster'] == 2][\"processed_sms\"]).split()).value_counts()\n",
    "freq_2[:2]"
   ]
  },
  {
   "cell_type": "code",
   "execution_count": 23,
   "metadata": {},
   "outputs": [
    {
     "data": {
      "text/plain": [
       "account    42963\n",
       "balance    17851\n",
       "dtype: int64"
      ]
     },
     "execution_count": 23,
     "metadata": {},
     "output_type": "execute_result"
    }
   ],
   "source": [
    "# Account\n",
    "freq_1 = pd.Series(' '.join(df[df['Cluster'] == 1][\"processed_sms\"]).split()).value_counts()\n",
    "freq_1[:2]"
   ]
  },
  {
   "cell_type": "markdown",
   "metadata": {},
   "source": [
    "From each of the identified high frequency words, consider only most repeated words "
   ]
  },
  {
   "cell_type": "code",
   "execution_count": 24,
   "metadata": {},
   "outputs": [],
   "source": [
    "freq_1 = freq_1[freq_1 > 100]\n",
    "freq_2 = freq_2[freq_2 > 500]\n",
    "freq_3 = freq_3[freq_3 > 1000]\n",
    "freq_4 = freq_4[freq_4 > 100]\n",
    "freq_5 = freq_5[freq_5 > 10]"
   ]
  },
  {
   "cell_type": "markdown",
   "metadata": {},
   "source": [
    "From each cluster of repeated words, identify words which belong to only that particular cluster. <br>\n",
    "For ex: 'account' may be part of both Cluster 1 and 2. Remove these kind of words from both the clusters and identify only unique words"
   ]
  },
  {
   "cell_type": "code",
   "execution_count": 25,
   "metadata": {},
   "outputs": [],
   "source": [
    "others_1 = list(set(freq_5.index) - set(list(freq_1.index) + (list(freq_2.index)) + (list(freq_3.index)) + (list(freq_4.index))))\n",
    "others_2 = list(set(freq_4.index) - set(list(freq_1.index) + (list(freq_2.index)) + (list(freq_3.index)) + (list(freq_5.index))))\n",
    "drill = list(set(freq_3.index) - set(list(freq_1.index) + (list(freq_2.index)) + (list(freq_5.index)) + (list(freq_4.index))))\n",
    "cr_db = list(set(freq_2.index) - set(list(freq_1.index) + (list(freq_3.index)) + (list(freq_5.index)) + (list(freq_4.index))))\n",
    "account = list(set(freq_1.index) - set(list(freq_3.index) + (list(freq_2.index)) + (list(freq_5.index)) + (list(freq_4.index))))"
   ]
  },
  {
   "cell_type": "code",
   "execution_count": 26,
   "metadata": {},
   "outputs": [],
   "source": [
    "drill.remove(\"debited\")\n",
    "drill.remove(\"creditcard\")\n",
    "\n",
    "other_words = others_1 + others_2 + drill\n",
    "credit = ['credit card','cr card', 'crcard','creditcard','credit']\n",
    "debit = list(set(cr_db) - set(credit))"
   ]
  },
  {
   "cell_type": "code",
   "execution_count": 27,
   "metadata": {},
   "outputs": [
    {
     "data": {
      "text/plain": [
       "52"
      ]
     },
     "execution_count": 27,
     "metadata": {},
     "output_type": "execute_result"
    }
   ],
   "source": [
    "len(account)"
   ]
  },
  {
   "cell_type": "markdown",
   "metadata": {},
   "source": [
    "Create target column from the identified words"
   ]
  },
  {
   "cell_type": "code",
   "execution_count": 28,
   "metadata": {},
   "outputs": [],
   "source": [
    "other_words_re = re.compile(\"|\".join(other_words))\n",
    "account_words_re = re.compile(\"|\".join(account))\n",
    "credit_re = re.compile(\"|\".join(credit))\n",
    "debit_re = re.compile(\"|\".join(debit))\n",
    "\n",
    "def other(sent):\n",
    "    if other_words_re.search(sent):\n",
    "        return \"others\"\n",
    "    return np.nan\n",
    "    \n",
    "def cr_dr(sent):\n",
    "    if credit_re.search(sent):\n",
    "        return \"credit\"\n",
    "    \n",
    "    if debit_re.search(sent):\n",
    "        return \"debit\"\n",
    "    return np.nan\n",
    "    \n",
    "def account(sent):\n",
    "    if account_words_re.search(sent):\n",
    "        return \"account\"\n",
    "    return np.nan"
   ]
  },
  {
   "cell_type": "code",
   "execution_count": 29,
   "metadata": {},
   "outputs": [],
   "source": [
    "df['target'] = np.where((df['Cluster'] == 4) | (df['Cluster'].isnull()) | (df['Cluster'] == 3), df['processed_sms'].apply(other),\n",
    "                        np.where(df['Cluster'] == 2, df['processed_sms'].apply(cr_dr), df['processed_sms'].apply(account)))\n",
    "df['target'] = df['target'].fillna('others')"
   ]
  },
  {
   "cell_type": "code",
   "execution_count": 30,
   "metadata": {},
   "outputs": [
    {
     "data": {
      "text/plain": [
       "others     79767\n",
       "account    23255\n",
       "credit     17558\n",
       "debit      16609\n",
       "Name: target, dtype: int64"
      ]
     },
     "execution_count": 30,
     "metadata": {},
     "output_type": "execute_result"
    }
   ],
   "source": [
    "df.target.value_counts()"
   ]
  },
  {
   "cell_type": "code",
   "execution_count": 31,
   "metadata": {},
   "outputs": [
    {
     "data": {
      "text/html": [
       "<div>\n",
       "<style scoped>\n",
       "    .dataframe tbody tr th:only-of-type {\n",
       "        vertical-align: middle;\n",
       "    }\n",
       "\n",
       "    .dataframe tbody tr th {\n",
       "        vertical-align: top;\n",
       "    }\n",
       "\n",
       "    .dataframe thead th {\n",
       "        text-align: right;\n",
       "    }\n",
       "</style>\n",
       "<table border=\"1\" class=\"dataframe\">\n",
       "  <thead>\n",
       "    <tr style=\"text-align: right;\">\n",
       "      <th>Cluster</th>\n",
       "      <th>1.0</th>\n",
       "      <th>2.0</th>\n",
       "      <th>3.0</th>\n",
       "      <th>4.0</th>\n",
       "      <th>All</th>\n",
       "    </tr>\n",
       "    <tr>\n",
       "      <th>target</th>\n",
       "      <th></th>\n",
       "      <th></th>\n",
       "      <th></th>\n",
       "      <th></th>\n",
       "      <th></th>\n",
       "    </tr>\n",
       "  </thead>\n",
       "  <tbody>\n",
       "    <tr>\n",
       "      <th>account</th>\n",
       "      <td>23255</td>\n",
       "      <td>0</td>\n",
       "      <td>0</td>\n",
       "      <td>0</td>\n",
       "      <td>23255</td>\n",
       "    </tr>\n",
       "    <tr>\n",
       "      <th>credit</th>\n",
       "      <td>0</td>\n",
       "      <td>17558</td>\n",
       "      <td>0</td>\n",
       "      <td>0</td>\n",
       "      <td>17558</td>\n",
       "    </tr>\n",
       "    <tr>\n",
       "      <th>debit</th>\n",
       "      <td>0</td>\n",
       "      <td>16609</td>\n",
       "      <td>0</td>\n",
       "      <td>0</td>\n",
       "      <td>16609</td>\n",
       "    </tr>\n",
       "    <tr>\n",
       "      <th>others</th>\n",
       "      <td>0</td>\n",
       "      <td>146</td>\n",
       "      <td>62948</td>\n",
       "      <td>15922</td>\n",
       "      <td>79767</td>\n",
       "    </tr>\n",
       "    <tr>\n",
       "      <th>All</th>\n",
       "      <td>23255</td>\n",
       "      <td>34313</td>\n",
       "      <td>62948</td>\n",
       "      <td>15922</td>\n",
       "      <td>137189</td>\n",
       "    </tr>\n",
       "  </tbody>\n",
       "</table>\n",
       "</div>"
      ],
      "text/plain": [
       "Cluster    1.0    2.0    3.0    4.0     All\n",
       "target                                     \n",
       "account  23255      0      0      0   23255\n",
       "credit       0  17558      0      0   17558\n",
       "debit        0  16609      0      0   16609\n",
       "others       0    146  62948  15922   79767\n",
       "All      23255  34313  62948  15922  137189"
      ]
     },
     "execution_count": 31,
     "metadata": {},
     "output_type": "execute_result"
    }
   ],
   "source": [
    "pd.crosstab(df['target'],df['Cluster'], dropna=False, margins=True)"
   ]
  },
  {
   "cell_type": "markdown",
   "metadata": {},
   "source": [
    "Get data ready for model building"
   ]
  },
  {
   "cell_type": "code",
   "execution_count": 32,
   "metadata": {},
   "outputs": [
    {
     "data": {
      "text/html": [
       "<div>\n",
       "<style scoped>\n",
       "    .dataframe tbody tr th:only-of-type {\n",
       "        vertical-align: middle;\n",
       "    }\n",
       "\n",
       "    .dataframe tbody tr th {\n",
       "        vertical-align: top;\n",
       "    }\n",
       "\n",
       "    .dataframe thead th {\n",
       "        text-align: right;\n",
       "    }\n",
       "</style>\n",
       "<table border=\"1\" class=\"dataframe\">\n",
       "  <thead>\n",
       "    <tr style=\"text-align: right;\">\n",
       "      <th></th>\n",
       "      <th>processed_sms</th>\n",
       "      <th>bigrams</th>\n",
       "      <th>target</th>\n",
       "    </tr>\n",
       "  </thead>\n",
       "  <tbody>\n",
       "    <tr>\n",
       "      <th>0</th>\n",
       "      <td>balance account eod check account current bala...</td>\n",
       "      <td>[[balance, account], [account, eod], [eod, che...</td>\n",
       "      <td>account</td>\n",
       "    </tr>\n",
       "    <tr>\n",
       "      <th>1</th>\n",
       "      <td>dr account towards ecs tp fin homes ltd val</td>\n",
       "      <td>[[dr, account], [account, towards], [towards, ...</td>\n",
       "      <td>account</td>\n",
       "    </tr>\n",
       "    <tr>\n",
       "      <th>2</th>\n",
       "      <td>deposited account towards dbl subsidy val</td>\n",
       "      <td>[[deposited, account], [account, towards], [to...</td>\n",
       "      <td>account</td>\n",
       "    </tr>\n",
       "    <tr>\n",
       "      <th>3</th>\n",
       "      <td>dear customer update aadhar number sms aadhaar...</td>\n",
       "      <td>[[dear, customer], [customer, update], [update...</td>\n",
       "      <td>others</td>\n",
       "    </tr>\n",
       "    <tr>\n",
       "      <th>4</th>\n",
       "      <td>ecellent job opportunity bank sales officer ag...</td>\n",
       "      <td>[[ecellent, job], [job, opportunity], [opportu...</td>\n",
       "      <td>others</td>\n",
       "    </tr>\n",
       "  </tbody>\n",
       "</table>\n",
       "</div>"
      ],
      "text/plain": [
       "                                       processed_sms  \\\n",
       "0  balance account eod check account current bala...   \n",
       "1        dr account towards ecs tp fin homes ltd val   \n",
       "2          deposited account towards dbl subsidy val   \n",
       "3  dear customer update aadhar number sms aadhaar...   \n",
       "4  ecellent job opportunity bank sales officer ag...   \n",
       "\n",
       "                                             bigrams   target  \n",
       "0  [[balance, account], [account, eod], [eod, che...  account  \n",
       "1  [[dr, account], [account, towards], [towards, ...  account  \n",
       "2  [[deposited, account], [account, towards], [to...  account  \n",
       "3  [[dear, customer], [customer, update], [update...   others  \n",
       "4  [[ecellent, job], [job, opportunity], [opportu...   others  "
      ]
     },
     "execution_count": 32,
     "metadata": {},
     "output_type": "execute_result"
    }
   ],
   "source": [
    "df.drop(['Rowid', 'Cluster', '_id', 'smses_senderId', 'f0_', 'smses_smsText'], axis=1, inplace=True)\n",
    "df.head()"
   ]
  },
  {
   "cell_type": "markdown",
   "metadata": {},
   "source": [
    "### Model building"
   ]
  },
  {
   "cell_type": "markdown",
   "metadata": {},
   "source": [
    "##### We shall build 3 models - bow, bigram, tfidf"
   ]
  },
  {
   "cell_type": "code",
   "execution_count": 33,
   "metadata": {
    "collapsed": true
   },
   "outputs": [],
   "source": [
    "def bow_cv(data):\n",
    "    vectorizer = CountVectorizer()\n",
    "    vectorizer = vectorizer.fit(data)\n",
    "    return vectorizer\n",
    "\n",
    "def bigram_process(data):\n",
    "    vectorizer = CountVectorizer(ngram_range=(1,2))\n",
    "    vectorizer = vectorizer.fit(data)\n",
    "    return vectorizer\n",
    "\n",
    "def tfidf_process(data):\n",
    "    transformer = TfidfTransformer()\n",
    "    transformer = transformer.fit(data)\n",
    "    return transformer"
   ]
  },
  {
   "cell_type": "code",
   "execution_count": 34,
   "metadata": {
    "scrolled": true
   },
   "outputs": [],
   "source": [
    "X = df['processed_sms']\n",
    "y = df['target']\n",
    "\n",
    "# Bag of words approach\n",
    "bow = bow_cv(X)\n",
    "X_bow = bow.transform(X)\n",
    "\n",
    "# Bigram approach\n",
    "bigram = bigram_process(X)\n",
    "X_bigram = bigram.transform(X)\n",
    "\n",
    "# TF-IDF approach\n",
    "tfidf = tfidf_process(X_bow)\n",
    "X_tfidf = tfidf.transform(X_bow)"
   ]
  },
  {
   "cell_type": "markdown",
   "metadata": {},
   "source": [
    "Divide data into train and test"
   ]
  },
  {
   "cell_type": "code",
   "execution_count": 35,
   "metadata": {},
   "outputs": [
    {
     "name": "stdout",
     "output_type": "stream",
     "text": [
      "Bag of words:\n",
      "(102891, 20133) (34298, 20133) (102891,) (34298,)\n",
      "\n",
      "Bigrams:\n",
      "(102891, 86887) (34298, 86887) (102891,) (34298,)\n",
      "\n",
      "TFIDF:\n",
      "(102891, 20133) (34298, 20133) (102891,) (34298,)\n"
     ]
    }
   ],
   "source": [
    "print(\"Bag of words:\")\n",
    "train_x_bow, test_x_bow, train_y_bow, test_y_bow = train_test_split(X_bow,y, test_size=0.25, random_state=10)\n",
    "print(train_x_bow.shape, test_x_bow.shape, train_y_bow.shape, test_y_bow.shape)\n",
    "\n",
    "print(\"\\nBigrams:\")\n",
    "train_x_bigram, test_x_bigram, train_y_bigram, test_y_bigram = train_test_split(X_bigram,y, test_size=0.25, random_state=10)\n",
    "print(train_x_bigram.shape, test_x_bigram.shape, train_y_bigram.shape, test_y_bigram.shape)\n",
    "\n",
    "print(\"\\nTFIDF:\")\n",
    "train_x_tfidf, test_x_tfidf, train_y_tfidf, test_y_tfidf = train_test_split(X_tfidf,y, test_size=0.25, random_state=10)\n",
    "print(train_x_tfidf.shape, test_x_tfidf.shape, train_y_tfidf.shape, test_y_tfidf.shape)"
   ]
  },
  {
   "cell_type": "markdown",
   "metadata": {},
   "source": [
    "### SGD Classifier models for all three approaches"
   ]
  },
  {
   "cell_type": "code",
   "execution_count": 36,
   "metadata": {},
   "outputs": [
    {
     "name": "stdout",
     "output_type": "stream",
     "text": [
      "Training BOW model\n"
     ]
    },
    {
     "name": "stderr",
     "output_type": "stream",
     "text": [
      "C:\\ProgramData\\Anaconda3\\lib\\site-packages\\sklearn\\linear_model\\stochastic_gradient.py:152: DeprecationWarning: n_iter parameter is deprecated in 0.19 and will be removed in 0.21. Use max_iter and tol instead.\n",
      "  DeprecationWarning)\n"
     ]
    },
    {
     "name": "stdout",
     "output_type": "stream",
     "text": [
      "Training bigrams model\n"
     ]
    },
    {
     "name": "stderr",
     "output_type": "stream",
     "text": [
      "C:\\ProgramData\\Anaconda3\\lib\\site-packages\\sklearn\\linear_model\\stochastic_gradient.py:152: DeprecationWarning: n_iter parameter is deprecated in 0.19 and will be removed in 0.21. Use max_iter and tol instead.\n",
      "  DeprecationWarning)\n"
     ]
    },
    {
     "name": "stdout",
     "output_type": "stream",
     "text": [
      "Training TFIDF model\n"
     ]
    },
    {
     "name": "stderr",
     "output_type": "stream",
     "text": [
      "C:\\ProgramData\\Anaconda3\\lib\\site-packages\\sklearn\\linear_model\\stochastic_gradient.py:152: DeprecationWarning: n_iter parameter is deprecated in 0.19 and will be removed in 0.21. Use max_iter and tol instead.\n",
      "  DeprecationWarning)\n"
     ]
    },
    {
     "data": {
      "text/plain": [
       "SGDClassifier(alpha=0.0001, average=False, class_weight=None,\n",
       "       early_stopping=False, epsilon=0.1, eta0=0.0, fit_intercept=True,\n",
       "       l1_ratio=0.15, learning_rate='optimal', loss='hinge', max_iter=None,\n",
       "       n_iter=20, n_iter_no_change=5, n_jobs=None, penalty='l1',\n",
       "       power_t=0.5, random_state=None, shuffle=True, tol=None,\n",
       "       validation_fraction=0.1, verbose=0, warm_start=False)"
      ]
     },
     "execution_count": 36,
     "metadata": {},
     "output_type": "execute_result"
    }
   ],
   "source": [
    "print(\"Training BOW model\")\n",
    "clf_bow = SGDClassifier(loss=\"hinge\", penalty=\"l1\", n_iter=20)\n",
    "clf_bow.fit(train_x_bow, train_y_bow)\n",
    "\n",
    "print(\"Training bigrams model\")\n",
    "clf_bigram = SGDClassifier(loss=\"hinge\", penalty=\"l1\", n_iter=20)\n",
    "clf_bigram.fit(train_x_bigram, train_y_bigram)\n",
    "\n",
    "print(\"Training TFIDF model\")\n",
    "clf_tfidf = SGDClassifier(loss=\"hinge\", penalty=\"l1\", n_iter=20)\n",
    "clf_tfidf.fit(train_x_tfidf, train_y_tfidf)"
   ]
  },
  {
   "cell_type": "markdown",
   "metadata": {},
   "source": [
    "### Model Validation"
   ]
  },
  {
   "cell_type": "code",
   "execution_count": 37,
   "metadata": {},
   "outputs": [
    {
     "name": "stdout",
     "output_type": "stream",
     "text": [
      "BOW train accuracy:  0.9983477660825534\n",
      "BOW test accuracy:  0.9979590646684938\n",
      "\n",
      "Bigram train accuracy:  0.9986296177508237\n",
      "Bigram test accuracy:  0.9979882208875153\n",
      "\n",
      "TFIDF train accuracy:  0.9973661447551292\n",
      "TFIDF test accuracy:  0.9970552218788268\n"
     ]
    }
   ],
   "source": [
    "train_preds_bow = clf_bow.predict(train_x_bow)\n",
    "test_preds_bow = clf_bow.predict(test_x_bow)\n",
    "print(\"BOW train accuracy: \", accuracy_score(train_y_bow, train_preds_bow))\n",
    "print(\"BOW test accuracy: \", accuracy_score(test_y_bow, test_preds_bow))\n",
    "\n",
    "train_preds_bigram = clf_bigram.predict(train_x_bigram)\n",
    "test_preds_bigram = clf_bigram.predict(test_x_bigram)\n",
    "print(\"\\nBigram train accuracy: \", accuracy_score(train_y_bigram, train_preds_bigram))\n",
    "print(\"Bigram test accuracy: \", accuracy_score(test_y_bigram, test_preds_bigram))\n",
    "\n",
    "train_preds_tfidf = clf_tfidf.predict(train_x_tfidf)\n",
    "test_preds_tfidf = clf_tfidf.predict(test_x_tfidf)\n",
    "print(\"\\nTFIDF train accuracy: \", accuracy_score(train_y_tfidf, train_preds_tfidf))\n",
    "print(\"TFIDF test accuracy: \", accuracy_score(test_y_tfidf, test_preds_tfidf))"
   ]
  },
  {
   "cell_type": "markdown",
   "metadata": {},
   "source": [
    "### Test data set"
   ]
  },
  {
   "cell_type": "code",
   "execution_count": 38,
   "metadata": {},
   "outputs": [
    {
     "data": {
      "text/html": [
       "<div>\n",
       "<style scoped>\n",
       "    .dataframe tbody tr th:only-of-type {\n",
       "        vertical-align: middle;\n",
       "    }\n",
       "\n",
       "    .dataframe tbody tr th {\n",
       "        vertical-align: top;\n",
       "    }\n",
       "\n",
       "    .dataframe thead th {\n",
       "        text-align: right;\n",
       "    }\n",
       "</style>\n",
       "<table border=\"1\" class=\"dataframe\">\n",
       "  <thead>\n",
       "    <tr style=\"text-align: right;\">\n",
       "      <th></th>\n",
       "      <th>_id</th>\n",
       "      <th>smses_senderId</th>\n",
       "      <th>f0_</th>\n",
       "      <th>smses_smsText</th>\n",
       "    </tr>\n",
       "  </thead>\n",
       "  <tbody>\n",
       "    <tr>\n",
       "      <th>0</th>\n",
       "      <td>0db8e1c4dda063fb70ce414128bfb028</td>\n",
       "      <td>DM-KOTAKB</td>\n",
       "      <td>2017-08-31</td>\n",
       "      <td>Dear Valued Customer, you recently used a Kota...</td>\n",
       "    </tr>\n",
       "    <tr>\n",
       "      <th>1</th>\n",
       "      <td>0db8e1c4dda063fb70ce414128bfb028</td>\n",
       "      <td>DM-KOTAKB</td>\n",
       "      <td>2017-08-30</td>\n",
       "      <td>Dear Valued Customer, you recently used a Kota...</td>\n",
       "    </tr>\n",
       "    <tr>\n",
       "      <th>2</th>\n",
       "      <td>0db8e1c4dda063fb70ce414128bfb028</td>\n",
       "      <td>TX-KOTAKB</td>\n",
       "      <td>2017-08-30</td>\n",
       "      <td>INR 17500.00 is debited from your A/c XXXX9823...</td>\n",
       "    </tr>\n",
       "    <tr>\n",
       "      <th>3</th>\n",
       "      <td>0db8e1c4dda063fb70ce414128bfb028</td>\n",
       "      <td>TX-KOTAKB</td>\n",
       "      <td>2017-08-29</td>\n",
       "      <td>INR 22000.00 is credited to your A/c XXXX9823 ...</td>\n",
       "    </tr>\n",
       "    <tr>\n",
       "      <th>4</th>\n",
       "      <td>4efdf9fc5a26dd28d50f6e214522d044</td>\n",
       "      <td>DM-KOTAKB</td>\n",
       "      <td>2017-08-29</td>\n",
       "      <td>Dear Customer, your welcome kit sent to your c...</td>\n",
       "    </tr>\n",
       "  </tbody>\n",
       "</table>\n",
       "</div>"
      ],
      "text/plain": [
       "                                _id smses_senderId         f0_  \\\n",
       "0  0db8e1c4dda063fb70ce414128bfb028      DM-KOTAKB  2017-08-31   \n",
       "1  0db8e1c4dda063fb70ce414128bfb028      DM-KOTAKB  2017-08-30   \n",
       "2  0db8e1c4dda063fb70ce414128bfb028      TX-KOTAKB  2017-08-30   \n",
       "3  0db8e1c4dda063fb70ce414128bfb028      TX-KOTAKB  2017-08-29   \n",
       "4  4efdf9fc5a26dd28d50f6e214522d044      DM-KOTAKB  2017-08-29   \n",
       "\n",
       "                                       smses_smsText  \n",
       "0  Dear Valued Customer, you recently used a Kota...  \n",
       "1  Dear Valued Customer, you recently used a Kota...  \n",
       "2  INR 17500.00 is debited from your A/c XXXX9823...  \n",
       "3  INR 22000.00 is credited to your A/c XXXX9823 ...  \n",
       "4  Dear Customer, your welcome kit sent to your c...  "
      ]
     },
     "execution_count": 38,
     "metadata": {},
     "output_type": "execute_result"
    }
   ],
   "source": [
    "df_test = pd.read_csv(\"./Sample SMS Data/sms_kotakb.csv\")\n",
    "df_test.head()"
   ]
  },
  {
   "cell_type": "code",
   "execution_count": 39,
   "metadata": {},
   "outputs": [],
   "source": [
    "df_test['processed_sms'] = df_test['smses_smsText'].apply(preprocess)"
   ]
  },
  {
   "cell_type": "code",
   "execution_count": 40,
   "metadata": {
    "collapsed": true
   },
   "outputs": [],
   "source": [
    "df_test_bow = bow.transform(df_test['processed_sms'])\n",
    "X_bigram = bigram.transform(df_test['processed_sms'])\n",
    "X_tfidf = tfidf.transform(df_test_bow)"
   ]
  },
  {
   "cell_type": "code",
   "execution_count": 41,
   "metadata": {},
   "outputs": [],
   "source": [
    "df_test['preds_bow'] = clf_bow.predict(df_test_bow)\n",
    "df_test['preds_bigram'] = clf_bigram.predict(X_bigram)\n",
    "df_test['preds_tfidf'] = clf_tfidf.predict(X_tfidf)"
   ]
  },
  {
   "cell_type": "code",
   "execution_count": 42,
   "metadata": {},
   "outputs": [
    {
     "data": {
      "text/plain": [
       "others    41756\n",
       "credit     2627\n",
       "debit      1624\n",
       "Name: preds_tfidf, dtype: int64"
      ]
     },
     "execution_count": 42,
     "metadata": {},
     "output_type": "execute_result"
    }
   ],
   "source": [
    "df_test['preds_tfidf'].value_counts()"
   ]
  },
  {
   "cell_type": "code",
   "execution_count": 43,
   "metadata": {},
   "outputs": [
    {
     "data": {
      "text/plain": [
       "others     39710\n",
       "debit       3870\n",
       "credit      2423\n",
       "account        4\n",
       "Name: preds_bow, dtype: int64"
      ]
     },
     "execution_count": 43,
     "metadata": {},
     "output_type": "execute_result"
    }
   ],
   "source": [
    "df_test['preds_bow'].value_counts()"
   ]
  },
  {
   "cell_type": "code",
   "execution_count": 44,
   "metadata": {},
   "outputs": [
    {
     "data": {
      "text/plain": [
       "others     43208\n",
       "credit      2508\n",
       "debit        235\n",
       "account       56\n",
       "Name: preds_bigram, dtype: int64"
      ]
     },
     "execution_count": 44,
     "metadata": {},
     "output_type": "execute_result"
    }
   ],
   "source": [
    "df_test['preds_bigram'].value_counts()"
   ]
  },
  {
   "cell_type": "markdown",
   "metadata": {},
   "source": [
    "## LSTM"
   ]
  },
  {
   "cell_type": "code",
   "execution_count": 46,
   "metadata": {},
   "outputs": [
    {
     "name": "stderr",
     "output_type": "stream",
     "text": [
      "C:\\ProgramData\\Anaconda3\\lib\\site-packages\\h5py\\__init__.py:34: FutureWarning: Conversion of the second argument of issubdtype from `float` to `np.floating` is deprecated. In future, it will be treated as `np.float64 == np.dtype(float).type`.\n",
      "  from ._conv import register_converters as _register_converters\n",
      "Using TensorFlow backend.\n"
     ]
    }
   ],
   "source": [
    "from keras.preprocessing.text import Tokenizer\n",
    "from keras.preprocessing.sequence import pad_sequences\n",
    "from keras.models import Sequential\n",
    "from keras.layers import Dense, Embedding, LSTM, SpatialDropout1D\n",
    "from keras.utils.np_utils import to_categorical\n",
    "from keras.callbacks import EarlyStopping\n",
    "from keras.layers import Dropout"
   ]
  },
  {
   "cell_type": "code",
   "execution_count": 45,
   "metadata": {},
   "outputs": [
    {
     "data": {
      "text/html": [
       "<div>\n",
       "<style scoped>\n",
       "    .dataframe tbody tr th:only-of-type {\n",
       "        vertical-align: middle;\n",
       "    }\n",
       "\n",
       "    .dataframe tbody tr th {\n",
       "        vertical-align: top;\n",
       "    }\n",
       "\n",
       "    .dataframe thead th {\n",
       "        text-align: right;\n",
       "    }\n",
       "</style>\n",
       "<table border=\"1\" class=\"dataframe\">\n",
       "  <thead>\n",
       "    <tr style=\"text-align: right;\">\n",
       "      <th></th>\n",
       "      <th>processed_sms</th>\n",
       "      <th>bigrams</th>\n",
       "      <th>target</th>\n",
       "    </tr>\n",
       "  </thead>\n",
       "  <tbody>\n",
       "    <tr>\n",
       "      <th>0</th>\n",
       "      <td>balance account eod check account current bala...</td>\n",
       "      <td>[[balance, account], [account, eod], [eod, che...</td>\n",
       "      <td>account</td>\n",
       "    </tr>\n",
       "    <tr>\n",
       "      <th>1</th>\n",
       "      <td>dr account towards ecs tp fin homes ltd val</td>\n",
       "      <td>[[dr, account], [account, towards], [towards, ...</td>\n",
       "      <td>account</td>\n",
       "    </tr>\n",
       "    <tr>\n",
       "      <th>2</th>\n",
       "      <td>deposited account towards dbl subsidy val</td>\n",
       "      <td>[[deposited, account], [account, towards], [to...</td>\n",
       "      <td>account</td>\n",
       "    </tr>\n",
       "    <tr>\n",
       "      <th>3</th>\n",
       "      <td>dear customer update aadhar number sms aadhaar...</td>\n",
       "      <td>[[dear, customer], [customer, update], [update...</td>\n",
       "      <td>others</td>\n",
       "    </tr>\n",
       "    <tr>\n",
       "      <th>4</th>\n",
       "      <td>ecellent job opportunity bank sales officer ag...</td>\n",
       "      <td>[[ecellent, job], [job, opportunity], [opportu...</td>\n",
       "      <td>others</td>\n",
       "    </tr>\n",
       "  </tbody>\n",
       "</table>\n",
       "</div>"
      ],
      "text/plain": [
       "                                       processed_sms  \\\n",
       "0  balance account eod check account current bala...   \n",
       "1        dr account towards ecs tp fin homes ltd val   \n",
       "2          deposited account towards dbl subsidy val   \n",
       "3  dear customer update aadhar number sms aadhaar...   \n",
       "4  ecellent job opportunity bank sales officer ag...   \n",
       "\n",
       "                                             bigrams   target  \n",
       "0  [[balance, account], [account, eod], [eod, che...  account  \n",
       "1  [[dr, account], [account, towards], [towards, ...  account  \n",
       "2  [[deposited, account], [account, towards], [to...  account  \n",
       "3  [[dear, customer], [customer, update], [update...   others  \n",
       "4  [[ecellent, job], [job, opportunity], [opportu...   others  "
      ]
     },
     "execution_count": 45,
     "metadata": {},
     "output_type": "execute_result"
    }
   ],
   "source": [
    "df.head()"
   ]
  },
  {
   "cell_type": "code",
   "execution_count": 47,
   "metadata": {
    "collapsed": true
   },
   "outputs": [],
   "source": [
    "MAX_NB_WORDS = 50000\n",
    "MAX_SEQUENCE_LENGTH = 100\n",
    "EMBEDDING_DIM = 100\n",
    "\n",
    "tokenizer = Tokenizer(num_words=MAX_NB_WORDS)\n",
    "tokenizer.fit_on_texts(df['processed_sms'].values)"
   ]
  },
  {
   "cell_type": "code",
   "execution_count": 49,
   "metadata": {},
   "outputs": [
    {
     "data": {
      "text/plain": [
       "((137189, 100), (137189, 4))"
      ]
     },
     "execution_count": 49,
     "metadata": {},
     "output_type": "execute_result"
    }
   ],
   "source": [
    "X = tokenizer.texts_to_sequences(df['processed_sms'].values)\n",
    "X = pad_sequences(X, maxlen=MAX_SEQUENCE_LENGTH)\n",
    "Y = pd.get_dummies(df['target']).values\n",
    "X.shape, Y.shape"
   ]
  },
  {
   "cell_type": "code",
   "execution_count": 55,
   "metadata": {},
   "outputs": [
    {
     "name": "stdout",
     "output_type": "stream",
     "text": [
      "(68594, 100) (68594, 4)\n",
      "(68595, 100) (68595, 4)\n"
     ]
    }
   ],
   "source": [
    "X_train, X_test, Y_train, Y_test = train_test_split(X,Y, test_size = 0.5, random_state = 42)\n",
    "print(X_train.shape,Y_train.shape)\n",
    "print(X_test.shape,Y_test.shape)"
   ]
  },
  {
   "cell_type": "code",
   "execution_count": 56,
   "metadata": {},
   "outputs": [
    {
     "name": "stdout",
     "output_type": "stream",
     "text": [
      "_________________________________________________________________\n",
      "Layer (type)                 Output Shape              Param #   \n",
      "=================================================================\n",
      "embedding_3 (Embedding)      (None, 100, 100)          5000000   \n",
      "_________________________________________________________________\n",
      "spatial_dropout1d_3 (Spatial (None, 100, 100)          0         \n",
      "_________________________________________________________________\n",
      "lstm_3 (LSTM)                (None, 100)               80400     \n",
      "_________________________________________________________________\n",
      "dense_3 (Dense)              (None, 4)                 404       \n",
      "=================================================================\n",
      "Total params: 5,080,804\n",
      "Trainable params: 5,080,804\n",
      "Non-trainable params: 0\n",
      "_________________________________________________________________\n",
      "None\n"
     ]
    }
   ],
   "source": [
    "model = Sequential()\n",
    "model.add(Embedding(MAX_NB_WORDS, EMBEDDING_DIM, input_length=X.shape[1]))\n",
    "model.add(SpatialDropout1D(0.2))\n",
    "model.add(LSTM(100, dropout=0.2, recurrent_dropout=0.2))\n",
    "model.add(Dense(4, activation='softmax'))\n",
    "model.compile(loss='categorical_crossentropy', optimizer='adam', metrics=['accuracy'])\n",
    "print(model.summary())"
   ]
  },
  {
   "cell_type": "code",
   "execution_count": 58,
   "metadata": {},
   "outputs": [
    {
     "name": "stdout",
     "output_type": "stream",
     "text": [
      "Train on 61734 samples, validate on 6860 samples\n",
      "Epoch 1/1\n",
      "61734/61734 [==============================] - 904s 15ms/step - loss: 0.0128 - acc: 0.9970 - val_loss: 0.0057 - val_acc: 0.9987\n"
     ]
    }
   ],
   "source": [
    "epochs = 1\n",
    "batch_size = 32\n",
    "\n",
    "history = model.fit(X_train, Y_train, \n",
    "                    epochs=epochs, \n",
    "                    batch_size=batch_size,\n",
    "                    validation_split=0.1,\n",
    "                    callbacks=[EarlyStopping(monitor='val_loss', patience=3, min_delta=0.0001)])"
   ]
  },
  {
   "cell_type": "code",
   "execution_count": 59,
   "metadata": {},
   "outputs": [
    {
     "name": "stdout",
     "output_type": "stream",
     "text": [
      "68595/68595 [==============================] - 130s 2ms/step\n",
      "Test set\n",
      "  Loss: 0.005\n",
      "  Accuracy: 0.999\n"
     ]
    }
   ],
   "source": [
    "accr = model.evaluate(X_test,Y_test)\n",
    "print('Test set\\n  Loss: {:0.3f}\\n  Accuracy: {:0.3f}'.format(accr[0],accr[1]))"
   ]
  },
  {
   "cell_type": "code",
   "execution_count": null,
   "metadata": {
    "collapsed": true
   },
   "outputs": [],
   "source": []
  }
 ],
 "metadata": {
  "kernelspec": {
   "display_name": "Python 3",
   "language": "python",
   "name": "python3"
  },
  "language_info": {
   "codemirror_mode": {
    "name": "ipython",
    "version": 3
   },
   "file_extension": ".py",
   "mimetype": "text/x-python",
   "name": "python",
   "nbconvert_exporter": "python",
   "pygments_lexer": "ipython3",
   "version": "3.6.1"
  }
 },
 "nbformat": 4,
 "nbformat_minor": 2
}
